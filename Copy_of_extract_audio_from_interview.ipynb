{
  "cells": [
    {
      "cell_type": "markdown",
      "metadata": {
        "id": "view-in-github",
        "colab_type": "text"
      },
      "source": [
        "<a href=\"https://colab.research.google.com/github/orakco/public/blob/main/Copy_of_extract_audio_from_interview.ipynb\" target=\"_parent\"><img src=\"https://colab.research.google.com/assets/colab-badge.svg\" alt=\"Open In Colab\"/></a>"
      ]
    },
    {
      "cell_type": "markdown",
      "metadata": {
        "id": "SLV9yjYj1Rpr"
      },
      "source": [
        "# Extract audio & postprocessing transcribe with whisper model\n",
        "> File uploads are currently limited to 25 MB and the following input file types are supported: mp3, mp4, mpeg, mpga, m4a, wav, and webm."
      ]
    },
    {
      "cell_type": "code",
      "execution_count": null,
      "metadata": {
        "id": "UEuYGBsB1Rpv",
        "outputId": "878372f0-9b7a-4388-c8a2-c289aa3e6cef",
        "colab": {
          "base_uri": "https://localhost:8080/"
        }
      },
      "outputs": [
        {
          "output_type": "stream",
          "name": "stdout",
          "text": [
            "Requirement already satisfied: openai in /usr/local/lib/python3.10/dist-packages (1.3.5)\n",
            "Requirement already satisfied: anyio<4,>=3.5.0 in /usr/local/lib/python3.10/dist-packages (from openai) (3.7.1)\n",
            "Requirement already satisfied: distro<2,>=1.7.0 in /usr/lib/python3/dist-packages (from openai) (1.7.0)\n",
            "Requirement already satisfied: httpx<1,>=0.23.0 in /usr/local/lib/python3.10/dist-packages (from openai) (0.25.1)\n",
            "Requirement already satisfied: pydantic<3,>=1.9.0 in /usr/local/lib/python3.10/dist-packages (from openai) (1.10.13)\n",
            "Requirement already satisfied: tqdm>4 in /usr/local/lib/python3.10/dist-packages (from openai) (4.66.1)\n",
            "Requirement already satisfied: typing-extensions<5,>=4.5 in /usr/local/lib/python3.10/dist-packages (from openai) (4.5.0)\n",
            "Requirement already satisfied: idna>=2.8 in /usr/local/lib/python3.10/dist-packages (from anyio<4,>=3.5.0->openai) (3.4)\n",
            "Requirement already satisfied: sniffio>=1.1 in /usr/local/lib/python3.10/dist-packages (from anyio<4,>=3.5.0->openai) (1.3.0)\n",
            "Requirement already satisfied: exceptiongroup in /usr/local/lib/python3.10/dist-packages (from anyio<4,>=3.5.0->openai) (1.1.3)\n",
            "Requirement already satisfied: certifi in /usr/local/lib/python3.10/dist-packages (from httpx<1,>=0.23.0->openai) (2023.7.22)\n",
            "Requirement already satisfied: httpcore in /usr/local/lib/python3.10/dist-packages (from httpx<1,>=0.23.0->openai) (1.0.2)\n",
            "Requirement already satisfied: h11<0.15,>=0.13 in /usr/local/lib/python3.10/dist-packages (from httpcore->httpx<1,>=0.23.0->openai) (0.14.0)\n",
            "Requirement already satisfied: pydub in /usr/local/lib/python3.10/dist-packages (0.25.1)\n",
            "Requirement already satisfied: moviepy in /usr/local/lib/python3.10/dist-packages (1.0.3)\n",
            "Requirement already satisfied: decorator<5.0,>=4.0.2 in /usr/local/lib/python3.10/dist-packages (from moviepy) (4.4.2)\n",
            "Requirement already satisfied: tqdm<5.0,>=4.11.2 in /usr/local/lib/python3.10/dist-packages (from moviepy) (4.66.1)\n",
            "Requirement already satisfied: requests<3.0,>=2.8.1 in /usr/local/lib/python3.10/dist-packages (from moviepy) (2.31.0)\n",
            "Requirement already satisfied: proglog<=1.0.0 in /usr/local/lib/python3.10/dist-packages (from moviepy) (0.1.10)\n",
            "Requirement already satisfied: numpy>=1.17.3 in /usr/local/lib/python3.10/dist-packages (from moviepy) (1.23.5)\n",
            "Requirement already satisfied: imageio<3.0,>=2.5 in /usr/local/lib/python3.10/dist-packages (from moviepy) (2.31.6)\n",
            "Requirement already satisfied: imageio-ffmpeg>=0.2.0 in /usr/local/lib/python3.10/dist-packages (from moviepy) (0.4.9)\n",
            "Requirement already satisfied: pillow<10.1.0,>=8.3.2 in /usr/local/lib/python3.10/dist-packages (from imageio<3.0,>=2.5->moviepy) (9.4.0)\n",
            "Requirement already satisfied: setuptools in /usr/local/lib/python3.10/dist-packages (from imageio-ffmpeg>=0.2.0->moviepy) (67.7.2)\n",
            "Requirement already satisfied: charset-normalizer<4,>=2 in /usr/local/lib/python3.10/dist-packages (from requests<3.0,>=2.8.1->moviepy) (3.3.2)\n",
            "Requirement already satisfied: idna<4,>=2.5 in /usr/local/lib/python3.10/dist-packages (from requests<3.0,>=2.8.1->moviepy) (3.4)\n",
            "Requirement already satisfied: urllib3<3,>=1.21.1 in /usr/local/lib/python3.10/dist-packages (from requests<3.0,>=2.8.1->moviepy) (2.0.7)\n",
            "Requirement already satisfied: certifi>=2017.4.17 in /usr/local/lib/python3.10/dist-packages (from requests<3.0,>=2.8.1->moviepy) (2023.7.22)\n"
          ]
        }
      ],
      "source": [
        "%pip install openai --upgrade\n",
        "#%pip install dotenv for local testing\n",
        "%pip install pydub\n",
        "%pip install moviepy"
      ]
    },
    {
      "cell_type": "code",
      "execution_count": null,
      "metadata": {
        "id": "J3seJj4B1Rpx"
      },
      "outputs": [],
      "source": [
        "# import os, dotenv\n",
        "# from dotenv import load_dotenv # to load .env file\n",
        "import datetime, openai\n",
        "from openai import OpenAI\n",
        "from pydub import AudioSegment #in case you need to decrease audio files/cut\n",
        "from moviepy.editor import AudioFileClip"
      ]
    },
    {
      "cell_type": "code",
      "execution_count": null,
      "metadata": {
        "id": "hblBpPcd1Rpx"
      },
      "outputs": [],
      "source": [
        "# For local key\n",
        "# Import Key and Base from .env\n",
        "# load_dotenv(\"secrets.env\")\n",
        "# openai.api_key = os.getenv(\"OPENAI_API_KEY\")\n",
        "# openai.organization = os.getenv(\"OPENAI_ORGANIZATION\")\n",
        "\n",
        "# param for have result more deterministic ( 0) or creative (1) you could have step for experimentations like 0.5\n",
        "temperature = 0\n",
        "\n",
        "from google.colab import userdata\n",
        "openai.api_key = userdata.get('OPENAI_API_KEY')\n",
        "# openai.organization = userdata.get('OPENAI_ORGANIZATION')\n",
        "openai.whisper_model = \"whisper-1\"\n",
        "# Verify if load dotenvi correct\n",
        "# print(\"OpenAI organization : \" + openai.organization)\n"
      ]
    },
    {
      "cell_type": "code",
      "execution_count": null,
      "metadata": {
        "id": "yDZymkW11Rpx"
      },
      "outputs": [],
      "source": [
        "# We create a client instance for openAI\n",
        "client = OpenAI(\n",
        "    api_key=openai.api_key,\n",
        "    # organization=openai.organization\n",
        ")\n"
      ]
    },
    {
      "cell_type": "code",
      "execution_count": null,
      "metadata": {
        "id": "QP-d1dU61Rpy"
      },
      "outputs": [],
      "source": [
        "# Usage to extract audio from a video mp4\n",
        "# local pathFile = \"../vids/interview.mp4\" output_path = \"../vids/output.mp3\"\n",
        "\n",
        "inputFile = \"/content/FT.m4a\"\n",
        "fileMp3 = \"/content/output.mp3\""
      ]
    },
    {
      "cell_type": "code",
      "execution_count": null,
      "metadata": {
        "id": "_JCp-CBr1Rpy",
        "outputId": "ec752ab3-1b02-43bf-803e-8574d5f2a209",
        "colab": {
          "base_uri": "https://localhost:8080/"
        }
      },
      "outputs": [
        {
          "output_type": "stream",
          "name": "stdout",
          "text": [
            "MoviePy - Writing audio in /content/output.mp3\n"
          ]
        },
        {
          "output_type": "stream",
          "name": "stderr",
          "text": [
            "                                                                     "
          ]
        },
        {
          "output_type": "stream",
          "name": "stdout",
          "text": [
            "MoviePy - Done.\n"
          ]
        },
        {
          "output_type": "stream",
          "name": "stderr",
          "text": [
            "\r"
          ]
        }
      ],
      "source": [
        "\n",
        "def extract_audio_from_m4a(video_path, output_path):\n",
        "    video = AudioFileClip(video_path)\n",
        "    video.write_audiofile(output_path, bitrate=\"64k\")\n",
        "\n",
        "extract_audio_from_m4a(inputFile, fileMp3)"
      ]
    },
    {
      "cell_type": "markdown",
      "metadata": {
        "id": "3JnXrx691Rpz"
      },
      "source": [
        "## If you want transcribe the audio file - use this cell - if the person have a strong accent or very noisy background it could be messy - try translation"
      ]
    },
    {
      "cell_type": "code",
      "execution_count": null,
      "metadata": {
        "id": "1z4-JA2O1Rpz",
        "outputId": "05049ee3-853e-4072-f425-23ed602580c9",
        "colab": {
          "base_uri": "https://localhost:8080/"
        }
      },
      "outputs": [
        {
          "output_type": "stream",
          "name": "stdout",
          "text": [
            "That is why we are committed to a future where increasingly more sustainable energy coexists with reliability and progress. Learn more about our actions for decarbonisation on eni.com. ENI, the energy of today and the energy of tomorrow. Good morning from the Financial Times. Today is Friday, November 24th and this is your FT News Briefing. A win for the far right in the Netherlands piles pressure on the EU, UK migration levels reach a record high, plus Carlsberg's Russian staff are arrested. Companies I've spoke to are terrified to put a foot wrong, they're trying to keep a low profile so it's a pretty risky position. I'm Persis Love, in for Mark Filippino, and here's the news you need to start your day. It's a victory for Europe's far right this week as Dutch anti-immigration leader Geert Wilders won the most.\n",
            "\n"
          ]
        }
      ],
      "source": [
        "translation = None\n",
        "audio_file= open(fileMp3, \"rb\")\n",
        "transcript = client.audio.transcriptions.create(\n",
        "  model=openai.whisper_model,\n",
        "  file=audio_file,\n",
        "  response_format=\"text\"\n",
        ")\n",
        "\n",
        "print(transcript)"
      ]
    },
    {
      "cell_type": "markdown",
      "metadata": {
        "id": "XFy3PGD71Rpz"
      },
      "source": [
        "## If you want a translation in english text - use this cell\n",
        "For the languages possibles to translate check this link in openAi page [page](https://platform.openai.com/docs/guides/speech-to-text/supported-languages)"
      ]
    },
    {
      "cell_type": "code",
      "execution_count": null,
      "metadata": {
        "id": "Ynu-2D9t1Rp0",
        "outputId": "3f9d861a-7867-4c0a-fa28-5ae5818c2c31",
        "colab": {
          "base_uri": "https://localhost:8080/"
        }
      },
      "outputs": [
        {
          "output_type": "stream",
          "name": "stdout",
          "text": [
            "That is why we committed to a future where increasingly more sustainable energy coexists with reliability and progress. Learn more about our actions for decarbonisation on eni.com. ENI, the energy of today and the energy of tomorrow. Good morning from the Financial Times. Today is Friday, November 24th, and this is your FT News Briefing. A win for the far right in the Netherlands piles pressure on the EU. UK migration levels reach a record high. Plus, Carlsberg's Russian staff are arrested. Companies I've spoke to are terrified to put a foot wrong. They're trying to keep a low profile. So it's a pretty risky position. I'm Persis Love, in for Mark Filippino, and here's the news you need to start your day. It's a victory for Europe's far right this week, as Dutch anti-immigration leader Geert Wilders won the most votes.\n",
            "\n"
          ]
        }
      ],
      "source": [
        "transcript = None\n",
        "audio_file= open(fileMp3, \"rb\")\n",
        "translation = client.audio.translations.create(\n",
        "  model=openai.whisper_model,\n",
        "  file=audio_file,\n",
        "  response_format=\"text\"\n",
        ")\n",
        "\n",
        "print(translation)"
      ]
    },
    {
      "cell_type": "markdown",
      "metadata": {
        "id": "v9Ai4iST1Rp0"
      },
      "source": [
        "## Process the result for the transcribe / translation with Model/instrauctions"
      ]
    },
    {
      "cell_type": "code",
      "source": [
        "# Transcribe the audio file\n",
        "transcription = client.audio.transcriptions.create(\n",
        "    model=openai.whisper_model,\n",
        "    file=audio_file,\n",
        "    response_format=\"text\"\n",
        ")\n",
        "\n",
        "# Print the transcription object to understand its structure\n",
        "print(transcription)\n"
      ],
      "metadata": {
        "id": "dIwv42-T7HMm",
        "outputId": "4ecdd964-1037-4fc1-f57f-fcb79ca9fe30",
        "colab": {
          "base_uri": "https://localhost:8080/"
        }
      },
      "execution_count": null,
      "outputs": [
        {
          "output_type": "stream",
          "name": "stdout",
          "text": [
            "That is why we are committed to a future where increasingly more sustainable energy coexists with reliability and progress. Learn more about our actions for decarbonisation on eni.com. ENI, the energy of today and the energy of tomorrow. Good morning from the Financial Times. Today is Friday, November 24th and this is your FT News Briefing. A win for the far right in the Netherlands piles pressure on the EU, UK migration levels reach a record high, plus Carlsberg's Russian staff are arrested. Companies I've spoke to are terrified to put a foot wrong, they're trying to keep a low profile so it's a pretty risky position. I'm Persis Love, in for Mark Filippino, and here's the news you need to start your day. It's a victory for Europe's far right this week as Dutch anti-immigration leader Geert Wilders won the most.\n",
            "\n"
          ]
        }
      ]
    },
    {
      "cell_type": "code",
      "source": [
        "transcribed_text = transcription"
      ],
      "metadata": {
        "id": "MxRgwVy48YT0"
      },
      "execution_count": null,
      "outputs": []
    },
    {
      "cell_type": "code",
      "source": [
        "pip install translatepy"
      ],
      "metadata": {
        "id": "c3x5sG-m8agQ",
        "outputId": "ba1114d0-6ccc-4a9a-cd42-4f514ca09a4b",
        "colab": {
          "base_uri": "https://localhost:8080/"
        }
      },
      "execution_count": null,
      "outputs": [
        {
          "output_type": "stream",
          "name": "stdout",
          "text": [
            "Collecting translatepy\n",
            "  Downloading translatepy-2.3-py3-none-any.whl (814 kB)\n",
            "\u001b[2K     \u001b[90m━━━━━━━━━━━━━━━━━━━━━━━━━━━━━━━━━━━━━━━━\u001b[0m \u001b[32m814.4/814.4 kB\u001b[0m \u001b[31m6.6 MB/s\u001b[0m eta \u001b[36m0:00:00\u001b[0m\n",
            "\u001b[?25hRequirement already satisfied: requests in /usr/local/lib/python3.10/dist-packages (from translatepy) (2.31.0)\n",
            "Collecting safeIO>=1.2 (from translatepy)\n",
            "  Downloading safeIO-1.2.tar.gz (8.0 kB)\n",
            "  Preparing metadata (setup.py) ... \u001b[?25l\u001b[?25hdone\n",
            "Requirement already satisfied: beautifulsoup4 in /usr/local/lib/python3.10/dist-packages (from translatepy) (4.11.2)\n",
            "Collecting pyuseragents (from translatepy)\n",
            "  Downloading pyuseragents-1.0.5-py3-none-any.whl (79 kB)\n",
            "\u001b[2K     \u001b[90m━━━━━━━━━━━━━━━━━━━━━━━━━━━━━━━━━━━━━━━━\u001b[0m \u001b[32m79.8/79.8 kB\u001b[0m \u001b[31m8.0 MB/s\u001b[0m eta \u001b[36m0:00:00\u001b[0m\n",
            "\u001b[?25hCollecting inquirer>=2.8.0 (from translatepy)\n",
            "  Downloading inquirer-3.1.4-py3-none-any.whl (18 kB)\n",
            "Collecting blessed>=1.19.0 (from inquirer>=2.8.0->translatepy)\n",
            "  Downloading blessed-1.20.0-py2.py3-none-any.whl (58 kB)\n",
            "\u001b[2K     \u001b[90m━━━━━━━━━━━━━━━━━━━━━━━━━━━━━━━━━━━━━━━━\u001b[0m \u001b[32m58.4/58.4 kB\u001b[0m \u001b[31m6.6 MB/s\u001b[0m eta \u001b[36m0:00:00\u001b[0m\n",
            "\u001b[?25hCollecting python-editor>=1.0.4 (from inquirer>=2.8.0->translatepy)\n",
            "  Downloading python_editor-1.0.4-py3-none-any.whl (4.9 kB)\n",
            "Collecting readchar>=3.0.6 (from inquirer>=2.8.0->translatepy)\n",
            "  Downloading readchar-4.0.5-py3-none-any.whl (8.5 kB)\n",
            "Requirement already satisfied: soupsieve>1.2 in /usr/local/lib/python3.10/dist-packages (from beautifulsoup4->translatepy) (2.5)\n",
            "Requirement already satisfied: charset-normalizer<4,>=2 in /usr/local/lib/python3.10/dist-packages (from requests->translatepy) (3.3.2)\n",
            "Requirement already satisfied: idna<4,>=2.5 in /usr/local/lib/python3.10/dist-packages (from requests->translatepy) (3.4)\n",
            "Requirement already satisfied: urllib3<3,>=1.21.1 in /usr/local/lib/python3.10/dist-packages (from requests->translatepy) (2.0.7)\n",
            "Requirement already satisfied: certifi>=2017.4.17 in /usr/local/lib/python3.10/dist-packages (from requests->translatepy) (2023.7.22)\n",
            "Requirement already satisfied: wcwidth>=0.1.4 in /usr/local/lib/python3.10/dist-packages (from blessed>=1.19.0->inquirer>=2.8.0->translatepy) (0.2.10)\n",
            "Requirement already satisfied: six>=1.9.0 in /usr/local/lib/python3.10/dist-packages (from blessed>=1.19.0->inquirer>=2.8.0->translatepy) (1.16.0)\n",
            "Requirement already satisfied: setuptools>=41.0 in /usr/local/lib/python3.10/dist-packages (from readchar>=3.0.6->inquirer>=2.8.0->translatepy) (67.7.2)\n",
            "Building wheels for collected packages: safeIO\n",
            "  Building wheel for safeIO (setup.py) ... \u001b[?25l\u001b[?25hdone\n",
            "  Created wheel for safeIO: filename=safeIO-1.2-py3-none-any.whl size=6732 sha256=9bc8d35214b6023adefb2c7003564b7b4edf3fca0364bb84b3184de4232a8674\n",
            "  Stored in directory: /root/.cache/pip/wheels/65/77/55/49296e806480db1fa92548fe2eb7447048830f14dbf3e34940\n",
            "Successfully built safeIO\n",
            "Installing collected packages: safeIO, pyuseragents, python-editor, readchar, blessed, inquirer, translatepy\n",
            "Successfully installed blessed-1.20.0 inquirer-3.1.4 python-editor-1.0.4 pyuseragents-1.0.5 readchar-4.0.5 safeIO-1.2 translatepy-2.3\n"
          ]
        }
      ]
    },
    {
      "cell_type": "code",
      "source": [
        "import translatepy\n",
        "\n",
        "def translate_text(text, target_language='fa'):\n",
        "    translator = translatepy.Translator()\n",
        "    result = translator.translate(text, target_language)\n",
        "    return result.result\n",
        "\n",
        "# Translate the transcribed text to French\n",
        "translated_text = translate_text(transcribed_text)\n"
      ],
      "metadata": {
        "id": "3Ue1PoEM8g7r"
      },
      "execution_count": null,
      "outputs": []
    },
    {
      "cell_type": "code",
      "source": [
        "import translatepy\n",
        "\n",
        "def translate_text(text, target_language='fa'):\n",
        "    translator = translatepy.Translator()\n",
        "    result = translator.translate(text, target_language)\n",
        "    return result.result\n",
        "\n",
        "# Assuming transcribed_text contains the text you got from Whisper\n",
        "transcribed_text = transcription  # or however you extracted it\n",
        "\n",
        "# Translate the transcribed text to French\n",
        "translated_text = translate_text(transcribed_text)\n",
        "\n",
        "# Print the translated text\n",
        "print(\"Translated text in French:\")\n",
        "print(translated_text)\n"
      ],
      "metadata": {
        "id": "4PKMCnIu804D",
        "outputId": "7c310474-df46-450f-e8d9-07bc0cb040be",
        "colab": {
          "base_uri": "https://localhost:8080/"
        }
      },
      "execution_count": null,
      "outputs": [
        {
          "output_type": "stream",
          "name": "stdout",
          "text": [
            "Translated text in French:\n",
            "به همین دلیل ما به آینده ای متعهد هستیم که انرژی پایدارتر با قابلیت اطمینان و پیشرفت همزیستی باشد.درباره اقدامات ما برای DeCarbonisation در Eni.com بیشتر بدانید.Eni ، انرژی امروز و انرژی فردا.صبح بخیر از تایمز مالی.امروز جمعه ، 24 نوامبر است و این توجیهی خبری FT شماست.پیروزی برای سمت راست در هلند فشار بر روی اتحادیه اروپا ، سطح مهاجرت انگلیس به رکورد بالایی می رسد ، به علاوه کارمندان روسیه کارلسبرگ دستگیر می شوند.شرکت هایی که من با آنها صحبت کردم وحشت دارند که یک پا را اشتباه نگیرند ، آنها سعی می کنند مشخصات کمتری را حفظ کنند ، بنابراین این یک موقعیت بسیار خطرناک است.من برای مارک فیلیپینو دوست دارم ، و در اینجا خبرهایی است که برای شروع روز خود نیاز دارید.این یک پیروزی برای حق راست اروپا این هفته است زیرا رهبر ضد مهاجرت هلندی گرت وایلدز بیشترین پیروزی را کسب کرد.\n"
          ]
        }
      ]
    },
    {
      "cell_type": "code",
      "source": [
        "pip install --upgrade google-cloud-translate"
      ],
      "metadata": {
        "id": "9awMiKZz6GfQ",
        "outputId": "2e9a441a-51ae-4fb1-a527-34ca1424a2dc",
        "colab": {
          "base_uri": "https://localhost:8080/"
        }
      },
      "execution_count": null,
      "outputs": [
        {
          "output_type": "stream",
          "name": "stdout",
          "text": [
            "Requirement already satisfied: google-cloud-translate in /usr/local/lib/python3.10/dist-packages (3.12.1)\n",
            "Requirement already satisfied: google-api-core[grpc]!=2.0.*,!=2.1.*,!=2.10.*,!=2.2.*,!=2.3.*,!=2.4.*,!=2.5.*,!=2.6.*,!=2.7.*,!=2.8.*,!=2.9.*,<3.0.0dev,>=1.34.0 in /usr/local/lib/python3.10/dist-packages (from google-cloud-translate) (2.11.1)\n",
            "Requirement already satisfied: google-cloud-core<3.0.0dev,>=1.4.4 in /usr/local/lib/python3.10/dist-packages (from google-cloud-translate) (2.3.3)\n",
            "Requirement already satisfied: proto-plus<2.0.0dev,>=1.22.0 in /usr/local/lib/python3.10/dist-packages (from google-cloud-translate) (1.22.3)\n",
            "Requirement already satisfied: protobuf!=3.20.0,!=3.20.1,!=4.21.0,!=4.21.1,!=4.21.2,!=4.21.3,!=4.21.4,!=4.21.5,<5.0.0dev,>=3.19.5 in /usr/local/lib/python3.10/dist-packages (from google-cloud-translate) (3.20.3)\n",
            "Requirement already satisfied: googleapis-common-protos<2.0.dev0,>=1.56.2 in /usr/local/lib/python3.10/dist-packages (from google-api-core[grpc]!=2.0.*,!=2.1.*,!=2.10.*,!=2.2.*,!=2.3.*,!=2.4.*,!=2.5.*,!=2.6.*,!=2.7.*,!=2.8.*,!=2.9.*,<3.0.0dev,>=1.34.0->google-cloud-translate) (1.61.0)\n",
            "Requirement already satisfied: google-auth<3.0.dev0,>=2.14.1 in /usr/local/lib/python3.10/dist-packages (from google-api-core[grpc]!=2.0.*,!=2.1.*,!=2.10.*,!=2.2.*,!=2.3.*,!=2.4.*,!=2.5.*,!=2.6.*,!=2.7.*,!=2.8.*,!=2.9.*,<3.0.0dev,>=1.34.0->google-cloud-translate) (2.17.3)\n",
            "Requirement already satisfied: requests<3.0.0.dev0,>=2.18.0 in /usr/local/lib/python3.10/dist-packages (from google-api-core[grpc]!=2.0.*,!=2.1.*,!=2.10.*,!=2.2.*,!=2.3.*,!=2.4.*,!=2.5.*,!=2.6.*,!=2.7.*,!=2.8.*,!=2.9.*,<3.0.0dev,>=1.34.0->google-cloud-translate) (2.31.0)\n",
            "Requirement already satisfied: grpcio<2.0dev,>=1.33.2 in /usr/local/lib/python3.10/dist-packages (from google-api-core[grpc]!=2.0.*,!=2.1.*,!=2.10.*,!=2.2.*,!=2.3.*,!=2.4.*,!=2.5.*,!=2.6.*,!=2.7.*,!=2.8.*,!=2.9.*,<3.0.0dev,>=1.34.0->google-cloud-translate) (1.59.2)\n",
            "Requirement already satisfied: grpcio-status<2.0.dev0,>=1.33.2 in /usr/local/lib/python3.10/dist-packages (from google-api-core[grpc]!=2.0.*,!=2.1.*,!=2.10.*,!=2.2.*,!=2.3.*,!=2.4.*,!=2.5.*,!=2.6.*,!=2.7.*,!=2.8.*,!=2.9.*,<3.0.0dev,>=1.34.0->google-cloud-translate) (1.48.2)\n",
            "Requirement already satisfied: cachetools<6.0,>=2.0.0 in /usr/local/lib/python3.10/dist-packages (from google-auth<3.0.dev0,>=2.14.1->google-api-core[grpc]!=2.0.*,!=2.1.*,!=2.10.*,!=2.2.*,!=2.3.*,!=2.4.*,!=2.5.*,!=2.6.*,!=2.7.*,!=2.8.*,!=2.9.*,<3.0.0dev,>=1.34.0->google-cloud-translate) (5.3.2)\n",
            "Requirement already satisfied: pyasn1-modules>=0.2.1 in /usr/local/lib/python3.10/dist-packages (from google-auth<3.0.dev0,>=2.14.1->google-api-core[grpc]!=2.0.*,!=2.1.*,!=2.10.*,!=2.2.*,!=2.3.*,!=2.4.*,!=2.5.*,!=2.6.*,!=2.7.*,!=2.8.*,!=2.9.*,<3.0.0dev,>=1.34.0->google-cloud-translate) (0.3.0)\n",
            "Requirement already satisfied: six>=1.9.0 in /usr/local/lib/python3.10/dist-packages (from google-auth<3.0.dev0,>=2.14.1->google-api-core[grpc]!=2.0.*,!=2.1.*,!=2.10.*,!=2.2.*,!=2.3.*,!=2.4.*,!=2.5.*,!=2.6.*,!=2.7.*,!=2.8.*,!=2.9.*,<3.0.0dev,>=1.34.0->google-cloud-translate) (1.16.0)\n",
            "Requirement already satisfied: rsa<5,>=3.1.4 in /usr/local/lib/python3.10/dist-packages (from google-auth<3.0.dev0,>=2.14.1->google-api-core[grpc]!=2.0.*,!=2.1.*,!=2.10.*,!=2.2.*,!=2.3.*,!=2.4.*,!=2.5.*,!=2.6.*,!=2.7.*,!=2.8.*,!=2.9.*,<3.0.0dev,>=1.34.0->google-cloud-translate) (4.9)\n",
            "Requirement already satisfied: charset-normalizer<4,>=2 in /usr/local/lib/python3.10/dist-packages (from requests<3.0.0.dev0,>=2.18.0->google-api-core[grpc]!=2.0.*,!=2.1.*,!=2.10.*,!=2.2.*,!=2.3.*,!=2.4.*,!=2.5.*,!=2.6.*,!=2.7.*,!=2.8.*,!=2.9.*,<3.0.0dev,>=1.34.0->google-cloud-translate) (3.3.2)\n",
            "Requirement already satisfied: idna<4,>=2.5 in /usr/local/lib/python3.10/dist-packages (from requests<3.0.0.dev0,>=2.18.0->google-api-core[grpc]!=2.0.*,!=2.1.*,!=2.10.*,!=2.2.*,!=2.3.*,!=2.4.*,!=2.5.*,!=2.6.*,!=2.7.*,!=2.8.*,!=2.9.*,<3.0.0dev,>=1.34.0->google-cloud-translate) (3.4)\n",
            "Requirement already satisfied: urllib3<3,>=1.21.1 in /usr/local/lib/python3.10/dist-packages (from requests<3.0.0.dev0,>=2.18.0->google-api-core[grpc]!=2.0.*,!=2.1.*,!=2.10.*,!=2.2.*,!=2.3.*,!=2.4.*,!=2.5.*,!=2.6.*,!=2.7.*,!=2.8.*,!=2.9.*,<3.0.0dev,>=1.34.0->google-cloud-translate) (2.0.7)\n",
            "Requirement already satisfied: certifi>=2017.4.17 in /usr/local/lib/python3.10/dist-packages (from requests<3.0.0.dev0,>=2.18.0->google-api-core[grpc]!=2.0.*,!=2.1.*,!=2.10.*,!=2.2.*,!=2.3.*,!=2.4.*,!=2.5.*,!=2.6.*,!=2.7.*,!=2.8.*,!=2.9.*,<3.0.0dev,>=1.34.0->google-cloud-translate) (2023.7.22)\n",
            "Requirement already satisfied: pyasn1<0.6.0,>=0.4.6 in /usr/local/lib/python3.10/dist-packages (from pyasn1-modules>=0.2.1->google-auth<3.0.dev0,>=2.14.1->google-api-core[grpc]!=2.0.*,!=2.1.*,!=2.10.*,!=2.2.*,!=2.3.*,!=2.4.*,!=2.5.*,!=2.6.*,!=2.7.*,!=2.8.*,!=2.9.*,<3.0.0dev,>=1.34.0->google-cloud-translate) (0.5.0)\n"
          ]
        }
      ]
    },
    {
      "cell_type": "code",
      "source": [
        "from google.cloud import translate_v2 as translate\n",
        "\n",
        "def translate_text(text, target_language='fr'):\n",
        "    translate_client = translate.Client()\n",
        "    result = translate_client.translate(text, target_language)\n",
        "    return result['translatedText']\n",
        "\n",
        "# Translate the transcribed text to French\n",
        "translated_text = translate_text(transcribed_text, 'fr')\n"
      ],
      "metadata": {
        "id": "rBQh0lnw62gD",
        "outputId": "08845ae5-710c-4564-93f2-03f36ee59d25",
        "colab": {
          "base_uri": "https://localhost:8080/",
          "height": 210
        }
      },
      "execution_count": null,
      "outputs": [
        {
          "output_type": "error",
          "ename": "NameError",
          "evalue": "ignored",
          "traceback": [
            "\u001b[0;31m---------------------------------------------------------------------------\u001b[0m",
            "\u001b[0;31mNameError\u001b[0m                                 Traceback (most recent call last)",
            "\u001b[0;32m<ipython-input-12-8dfdb65092d9>\u001b[0m in \u001b[0;36m<cell line: 9>\u001b[0;34m()\u001b[0m\n\u001b[1;32m      7\u001b[0m \u001b[0;34m\u001b[0m\u001b[0m\n\u001b[1;32m      8\u001b[0m \u001b[0;31m# Translate the transcribed text to French\u001b[0m\u001b[0;34m\u001b[0m\u001b[0;34m\u001b[0m\u001b[0m\n\u001b[0;32m----> 9\u001b[0;31m \u001b[0mtranslated_text\u001b[0m \u001b[0;34m=\u001b[0m \u001b[0mtranslate_text\u001b[0m\u001b[0;34m(\u001b[0m\u001b[0mtranscribed_text\u001b[0m\u001b[0;34m,\u001b[0m \u001b[0;34m'fr'\u001b[0m\u001b[0;34m)\u001b[0m\u001b[0;34m\u001b[0m\u001b[0;34m\u001b[0m\u001b[0m\n\u001b[0m",
            "\u001b[0;31mNameError\u001b[0m: name 'transcribed_text' is not defined"
          ]
        }
      ]
    },
    {
      "cell_type": "code",
      "execution_count": null,
      "metadata": {
        "id": "95aI8TNW1Rp0",
        "outputId": "b3b1612e-394e-4108-a581-c9ef199a1c48"
      },
      "outputs": [
        {
          "name": "stdout",
          "output_type": "stream",
          "text": [
            "Prompt from transcribe / translation : Hello everybody and welcome to the new MBA elective, Building Gen AI Products and Businesses. I'm Theos Evgeniou and I'm looking forward to seeing you next week in this course. This is just an intro video recording that all of us will do. It's supposed to be less than one minute and go through a few questions I sent you by email. Let me give you an example, I'm going to go through the questions myself. First question is name, main degree, key role before INSEAD. My name is Theos Evgeniou, my main degree is in engineering and computer science and I've been at INSEAD since 2001. Second question, what are the two potential roles, jobs, industries I wish to work on next or if I already have a job, what role do I join next? In my case, I will remain a professor at INSEAD next. What are the top two outcomes you wish to get out of the course? Well, hopefully you have more than two. From my side, the main objective success will look like if we collectively by exchanging with each other, we all gain a better, more practical, more up to date and more sober view of Gen AI and what it means for business and society. And the big success will be if some of you end up building some of the products and businesses that you will work on during this course. Hopefully even with funding from some of the partner VCs that are joining the course, but also others. Do you have any experience coding with Python or others? Question number four. I've been coding for quite some time in my life, although I'm not a really good Python coder. Actually, I'm pretty bad at that. Number five, an interesting article or idea or concept you read about recently regarding Gen AI, please share. In my case, I shared quite a few of them in the syllabus. Thank you again and looking forward to seeing you next week in class.\n",
            "\n"
          ]
        }
      ],
      "source": [
        "model = \"gpt-4\" # you can change the model here with gpt-4 /gpt-4-32k / gpt-3.5-turbo / gpt-3.5-turbo-16k\n",
        "\n",
        "# Create the client with params for OpenAI API\n",
        "if transcript is not None:\n",
        "    prompt = transcript\n",
        "elif translation is not None:\n",
        "    prompt = translation\n",
        "else:\n",
        "    prompt = \"\"  # Assign an empty string if both transcript and translation are None\n",
        "\n",
        "print(\"Prompt from transcribe / translation : \" + prompt)"
      ]
    },
    {
      "cell_type": "code",
      "execution_count": null,
      "metadata": {
        "id": "kdrnU6Jh1Rp0"
      },
      "outputs": [],
      "source": [
        "#Change it if you want to have a different point of view\n",
        "promptSystem = \"\"\"You are a conselor who has received this transcript from a student who is applying for an MBA,\n",
        " you have to describe what it's going on, you have to be precise ,\n",
        " extract the name of the person , make a short summary and spotligh on the differnt informations give by the person\n",
        " You could also give an advice on what do you think about the presentation\n",
        " in the context of the MBA \"\"\""
      ]
    },
    {
      "cell_type": "code",
      "execution_count": null,
      "metadata": {
        "id": "qP3FYL9v1Rp0",
        "outputId": "8bbfdaef-72b1-4839-810c-7ddf2832490f"
      },
      "outputs": [
        {
          "name": "stdout",
          "output_type": "stream",
          "text": [
            "The speaker in the transcript is Theos Evgeniou, a professor at INSEAD. He is introducing a new MBA elective course, Building Gen AI Products and Businesses. He is using this video to answer a set of questions he had previously sent to his students via email.\n",
            "\n",
            "Theos has a background in engineering and computer science and has been with INSEAD since 2001. He plans to continue his role as a professor at INSEAD. His main objective for the course is to provide a practical, up-to-date, and sober view of Gen AI and its implications for business and society. He hopes that some students will even go on to build products and businesses based on what they learn in the course, potentially with funding from partner venture capitalists.\n",
            "\n",
            "Theos also mentions his coding experience, noting that while he has coded for a significant portion of his life, he is not particularly skilled at Python. He encourages students to share interesting articles or ideas about Gen AI, noting that he has shared several in the course syllabus.\n",
            "\n",
            "In terms of presentation, Theos does a good job of introducing himself and setting expectations for the course. However, he could improve by providing more specific examples or details about the course content and structure. This would give prospective students a clearer idea of what to expect and how the course could benefit them.\n"
          ]
        }
      ],
      "source": [
        "\n",
        "response = ClientOpenAi.chat.completions.create(\n",
        "        model=model,\n",
        "        n=1,\n",
        "        temperature=temperature, # 0 to 1 by  step of 0.1 - O for  deterministic result, 1 is very creative\n",
        "        messages=[\n",
        "            {\"role\": \"system\", \"content\": promptSystem},\n",
        "            {\"role\": \"user\", \"content\": prompt},\n",
        "        ],\n",
        "    )\n",
        "\n",
        "print(response.choices[0].message.content)"
      ]
    }
  ],
  "metadata": {
    "kernelspec": {
      "display_name": "Python 3",
      "language": "python",
      "name": "python3"
    },
    "language_info": {
      "codemirror_mode": {
        "name": "ipython",
        "version": 3
      },
      "file_extension": ".py",
      "mimetype": "text/x-python",
      "name": "python",
      "nbconvert_exporter": "python",
      "pygments_lexer": "ipython3",
      "version": "3.11.5"
    },
    "colab": {
      "provenance": [],
      "include_colab_link": true
    }
  },
  "nbformat": 4,
  "nbformat_minor": 0
}